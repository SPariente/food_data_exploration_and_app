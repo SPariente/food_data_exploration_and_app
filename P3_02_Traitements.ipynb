{
 "cells": [
  {
   "cell_type": "code",
   "execution_count": 1,
   "id": "0757812c-bb37-4baf-af49-60722138ba01",
   "metadata": {},
   "outputs": [],
   "source": [
    "import pandas as pd\n",
    "import numpy as np\n",
    "from IPython.display import display, Markdown\n",
    "import re"
   ]
  },
  {
   "cell_type": "markdown",
   "id": "8b5dfe01-93e4-414a-a0b1-6acf19398be9",
   "metadata": {},
   "source": [
    "# 2. Traitements"
   ]
  },
  {
   "cell_type": "markdown",
   "id": "c6b4ddf9-d1e6-4279-b643-9bdf73c21e32",
   "metadata": {},
   "source": [
    "Pour commencer, nous importons la base de données."
   ]
  },
  {
   "cell_type": "code",
   "execution_count": 2,
   "id": "974c4d92-6dac-43dd-bcb6-9eea5d91b0cf",
   "metadata": {},
   "outputs": [],
   "source": [
    "FoodData = pd.read_feather('data/FoodData_filtered.feather')"
   ]
  },
  {
   "cell_type": "code",
   "execution_count": 3,
   "id": "5d85c0ae-7d31-41ff-bd7b-3f0d59875fc9",
   "metadata": {},
   "outputs": [
    {
     "data": {
      "text/html": [
       "<div>\n",
       "<style scoped>\n",
       "    .dataframe tbody tr th:only-of-type {\n",
       "        vertical-align: middle;\n",
       "    }\n",
       "\n",
       "    .dataframe tbody tr th {\n",
       "        vertical-align: top;\n",
       "    }\n",
       "\n",
       "    .dataframe thead th {\n",
       "        text-align: right;\n",
       "    }\n",
       "</style>\n",
       "<table border=\"1\" class=\"dataframe\">\n",
       "  <thead>\n",
       "    <tr style=\"text-align: right;\">\n",
       "      <th></th>\n",
       "      <th>code</th>\n",
       "      <th>url</th>\n",
       "      <th>last_modified_datetime</th>\n",
       "      <th>image_small_url</th>\n",
       "      <th>product_name</th>\n",
       "      <th>quantity</th>\n",
       "      <th>pnns_groups_1</th>\n",
       "      <th>pnns_groups_2</th>\n",
       "      <th>food_groups</th>\n",
       "      <th>nutriscore_grade</th>\n",
       "      <th>energy-kcal_100g</th>\n",
       "      <th>fat_100g</th>\n",
       "      <th>saturated-fat_100g</th>\n",
       "      <th>carbohydrates_100g</th>\n",
       "      <th>sugars_100g</th>\n",
       "      <th>proteins_100g</th>\n",
       "      <th>salt_100g</th>\n",
       "      <th>sodium_100g</th>\n",
       "    </tr>\n",
       "  </thead>\n",
       "  <tbody>\n",
       "    <tr>\n",
       "      <th>0</th>\n",
       "      <td>0000000000100</td>\n",
       "      <td>http://world-fr.openfoodfacts.org/produit/0000...</td>\n",
       "      <td>2015-10-12 14:13:32+00:00</td>\n",
       "      <td>https://images.openfoodfacts.org/images/produc...</td>\n",
       "      <td>moutarde au moût de raisin</td>\n",
       "      <td>100g</td>\n",
       "      <td>Fat and sauces</td>\n",
       "      <td>Dressings and sauces</td>\n",
       "      <td>en:dressings-and-sauces</td>\n",
       "      <td>d</td>\n",
       "      <td>223.559759</td>\n",
       "      <td>8.2</td>\n",
       "      <td>2.2</td>\n",
       "      <td>29.0</td>\n",
       "      <td>22.0</td>\n",
       "      <td>5.1</td>\n",
       "      <td>4.600</td>\n",
       "      <td>1.840</td>\n",
       "    </tr>\n",
       "    <tr>\n",
       "      <th>1</th>\n",
       "      <td>0000000000949</td>\n",
       "      <td>http://world-fr.openfoodfacts.org/produit/0000...</td>\n",
       "      <td>2019-08-08 12:46:52+00:00</td>\n",
       "      <td>https://images.openfoodfacts.org/images/produc...</td>\n",
       "      <td>Salade de carottes râpées</td>\n",
       "      <td>None</td>\n",
       "      <td>Composite foods</td>\n",
       "      <td>One-dish meals</td>\n",
       "      <td>en:one-dish-meals</td>\n",
       "      <td>b</td>\n",
       "      <td>32.000000</td>\n",
       "      <td>0.3</td>\n",
       "      <td>0.1</td>\n",
       "      <td>5.3</td>\n",
       "      <td>3.9</td>\n",
       "      <td>0.9</td>\n",
       "      <td>0.420</td>\n",
       "      <td>0.168</td>\n",
       "    </tr>\n",
       "    <tr>\n",
       "      <th>2</th>\n",
       "      <td>000000000114</td>\n",
       "      <td>http://world-fr.openfoodfacts.org/produit/0000...</td>\n",
       "      <td>2021-01-06 15:00:29+00:00</td>\n",
       "      <td>https://images.openfoodfacts.org/images/produc...</td>\n",
       "      <td>Chocolate n 3</td>\n",
       "      <td>80 g</td>\n",
       "      <td>unknown</td>\n",
       "      <td>unknown</td>\n",
       "      <td>None</td>\n",
       "      <td>None</td>\n",
       "      <td>2439.000000</td>\n",
       "      <td>44.0</td>\n",
       "      <td>28.0</td>\n",
       "      <td>30.0</td>\n",
       "      <td>27.0</td>\n",
       "      <td>2.1</td>\n",
       "      <td>0.025</td>\n",
       "      <td>0.010</td>\n",
       "    </tr>\n",
       "    <tr>\n",
       "      <th>3</th>\n",
       "      <td>0000000001281</td>\n",
       "      <td>http://world-fr.openfoodfacts.org/produit/0000...</td>\n",
       "      <td>2022-02-11 08:24:48+00:00</td>\n",
       "      <td>https://images.openfoodfacts.org/images/produc...</td>\n",
       "      <td>Tarte noix de coco</td>\n",
       "      <td>None</td>\n",
       "      <td>Sugary snacks</td>\n",
       "      <td>Biscuits and cakes</td>\n",
       "      <td>en:biscuits-and-cakes</td>\n",
       "      <td>d</td>\n",
       "      <td>381.000000</td>\n",
       "      <td>22.0</td>\n",
       "      <td>15.5</td>\n",
       "      <td>27.3</td>\n",
       "      <td>21.9</td>\n",
       "      <td>4.6</td>\n",
       "      <td>0.100</td>\n",
       "      <td>0.040</td>\n",
       "    </tr>\n",
       "    <tr>\n",
       "      <th>4</th>\n",
       "      <td>0000000001885</td>\n",
       "      <td>http://world-fr.openfoodfacts.org/produit/0000...</td>\n",
       "      <td>2018-02-08 21:48:11+00:00</td>\n",
       "      <td>https://images.openfoodfacts.org/images/produc...</td>\n",
       "      <td>Compote de poire</td>\n",
       "      <td>None</td>\n",
       "      <td>Fruits and vegetables</td>\n",
       "      <td>Fruits</td>\n",
       "      <td>en:fruits</td>\n",
       "      <td>a</td>\n",
       "      <td>157.000000</td>\n",
       "      <td>0.0</td>\n",
       "      <td>0.0</td>\n",
       "      <td>36.0</td>\n",
       "      <td>27.0</td>\n",
       "      <td>0.6</td>\n",
       "      <td>0.000</td>\n",
       "      <td>0.000</td>\n",
       "    </tr>\n",
       "  </tbody>\n",
       "</table>\n",
       "</div>"
      ],
      "text/plain": [
       "            code                                                url  \\\n",
       "0  0000000000100  http://world-fr.openfoodfacts.org/produit/0000...   \n",
       "1  0000000000949  http://world-fr.openfoodfacts.org/produit/0000...   \n",
       "2   000000000114  http://world-fr.openfoodfacts.org/produit/0000...   \n",
       "3  0000000001281  http://world-fr.openfoodfacts.org/produit/0000...   \n",
       "4  0000000001885  http://world-fr.openfoodfacts.org/produit/0000...   \n",
       "\n",
       "     last_modified_datetime  \\\n",
       "0 2015-10-12 14:13:32+00:00   \n",
       "1 2019-08-08 12:46:52+00:00   \n",
       "2 2021-01-06 15:00:29+00:00   \n",
       "3 2022-02-11 08:24:48+00:00   \n",
       "4 2018-02-08 21:48:11+00:00   \n",
       "\n",
       "                                     image_small_url  \\\n",
       "0  https://images.openfoodfacts.org/images/produc...   \n",
       "1  https://images.openfoodfacts.org/images/produc...   \n",
       "2  https://images.openfoodfacts.org/images/produc...   \n",
       "3  https://images.openfoodfacts.org/images/produc...   \n",
       "4  https://images.openfoodfacts.org/images/produc...   \n",
       "\n",
       "                   product_name quantity          pnns_groups_1  \\\n",
       "0   moutarde au moût de raisin      100g         Fat and sauces   \n",
       "1     Salade de carottes râpées     None        Composite foods   \n",
       "2                 Chocolate n 3     80 g                unknown   \n",
       "3            Tarte noix de coco     None          Sugary snacks   \n",
       "4              Compote de poire     None  Fruits and vegetables   \n",
       "\n",
       "          pnns_groups_2              food_groups nutriscore_grade  \\\n",
       "0  Dressings and sauces  en:dressings-and-sauces                d   \n",
       "1        One-dish meals        en:one-dish-meals                b   \n",
       "2               unknown                     None             None   \n",
       "3    Biscuits and cakes    en:biscuits-and-cakes                d   \n",
       "4                Fruits                en:fruits                a   \n",
       "\n",
       "   energy-kcal_100g  fat_100g  saturated-fat_100g  carbohydrates_100g  \\\n",
       "0        223.559759       8.2                 2.2                29.0   \n",
       "1         32.000000       0.3                 0.1                 5.3   \n",
       "2       2439.000000      44.0                28.0                30.0   \n",
       "3        381.000000      22.0                15.5                27.3   \n",
       "4        157.000000       0.0                 0.0                36.0   \n",
       "\n",
       "   sugars_100g  proteins_100g  salt_100g  sodium_100g  \n",
       "0         22.0            5.1      4.600        1.840  \n",
       "1          3.9            0.9      0.420        0.168  \n",
       "2         27.0            2.1      0.025        0.010  \n",
       "3         21.9            4.6      0.100        0.040  \n",
       "4         27.0            0.6      0.000        0.000  "
      ]
     },
     "execution_count": 3,
     "metadata": {},
     "output_type": "execute_result"
    }
   ],
   "source": [
    "FoodData.head()"
   ]
  },
  {
   "cell_type": "code",
   "execution_count": 4,
   "id": "15b47ae2-f1b6-46e0-8069-228490390836",
   "metadata": {},
   "outputs": [
    {
     "name": "stdout",
     "output_type": "stream",
     "text": [
      "<class 'pandas.core.frame.DataFrame'>\n",
      "RangeIndex: 364286 entries, 0 to 364285\n",
      "Data columns (total 18 columns):\n",
      " #   Column                  Non-Null Count   Dtype              \n",
      "---  ------                  --------------   -----              \n",
      " 0   code                    364286 non-null  object             \n",
      " 1   url                     364286 non-null  object             \n",
      " 2   last_modified_datetime  364286 non-null  datetime64[ns, UTC]\n",
      " 3   image_small_url         352291 non-null  object             \n",
      " 4   product_name            363211 non-null  object             \n",
      " 5   quantity                219502 non-null  object             \n",
      " 6   pnns_groups_1           364286 non-null  object             \n",
      " 7   pnns_groups_2           364286 non-null  object             \n",
      " 8   food_groups             297058 non-null  object             \n",
      " 9   nutriscore_grade        315100 non-null  object             \n",
      " 10  energy-kcal_100g        364156 non-null  float64            \n",
      " 11  fat_100g                364211 non-null  float64            \n",
      " 12  saturated-fat_100g      364107 non-null  float64            \n",
      " 13  carbohydrates_100g      364177 non-null  float64            \n",
      " 14  sugars_100g             364150 non-null  float64            \n",
      " 15  proteins_100g           364224 non-null  float64            \n",
      " 16  salt_100g               364266 non-null  float64            \n",
      " 17  sodium_100g             364266 non-null  float64            \n",
      "dtypes: datetime64[ns, UTC](1), float64(8), object(9)\n",
      "memory usage: 50.0+ MB\n"
     ]
    }
   ],
   "source": [
    "FoodData.info()"
   ]
  },
  {
   "cell_type": "markdown",
   "id": "07424c89-f5f6-4112-9b19-8da1cf2ca4ee",
   "metadata": {},
   "source": [
    "## 2.1. Conversion des quantités en nombre"
   ]
  },
  {
   "cell_type": "markdown",
   "id": "57f3010c-91b3-4dbe-bf68-c9286aa69f95",
   "metadata": {},
   "source": [
    "En observant les premières lignes de la base de données, nous nous apercevons que la donnée indiquant la quantité de produit n'est pas saisie sous un format numérique. Nous allons donc créer une fonction pour en extraire les éléments numériques."
   ]
  },
  {
   "cell_type": "code",
   "execution_count": 5,
   "id": "be17094d-8c8c-49f8-a175-486485822db7",
   "metadata": {},
   "outputs": [],
   "source": [
    "def extract_quantities(quantity_string, quantity_max):\n",
    "    \n",
    "    '''\n",
    "    Fonction pour extraire les quantités (poids / volume) de données entrées en string, tenant compte de formats possibles.\n",
    "    \n",
    "    Paramètres:\n",
    "    -----------\n",
    "    - quantity_string : string contenant les éléments relatifs à une quantité en poids / volume.\n",
    "    - quantity_max : quantité maximale acceptée comme étant possible\n",
    "    \n",
    "    Résultat:\n",
    "    ---------\n",
    "    float représentant le poids extrait de quantity_string, ou None si aucune quantité n'a pu être extraite.\n",
    "    '''\n",
    "    \n",
    "    quantity_string = str(quantity_string)\n",
    "    quantity_string = quantity_string.lower().replace(',','.')\n",
    "    \n",
    "    #Pattern identifiant un nombre\n",
    "    num_pattern = r'\\d+\\.?\\d*'\n",
    "    #Pattern identifiant une multiplication entre nombres\n",
    "    mult_pattern = '(\\d+\\.?\\d*\\s*g?\\s*[\\*|x]\\s*\\d+\\.?\\d*)'\n",
    "    \n",
    "    #Si la description contient une information en (k)g, nous supprimons l'information en (fl) oz\n",
    "    if re.search(r'g', quantity_string) is not None:\n",
    "        quantity_string = re.sub(r'\\d+\\.?\\d?\\s?(fl)?\\.?\\s?oz',\"\", quantity_string)\n",
    "        \n",
    "    #Si la description contient une information en L, nous supprimons l'information en (fl) oz et en (k)g\n",
    "    if re.search(r'[\\s|m|c|d\\d]l', quantity_string) is not None:\n",
    "        quantity_string = re.sub(r'\\d+\\.?\\d?\\s?(((fl)?\\.?\\s?oz)|(k?g))',\"\", quantity_string)\n",
    "    \n",
    "    #Selon l'information contenue, nous allons devoir multiplier les valeurs pour obtenir une information homogène en g ou mL\n",
    "    if re.search(r'ml\\b', quantity_string) is not None:\n",
    "        mult = 1\n",
    "    elif re.search(r'cl\\b', quantity_string) is not None:\n",
    "        mult = 10\n",
    "    elif re.search(r'dl\\b', quantity_string) is not None:\n",
    "        mult = 100\n",
    "    elif re.search(r'fl\\.?\\s?oz', quantity_string) is not None:\n",
    "        mult = 29.5735\n",
    "    elif re.search(r'oz', quantity_string) is not None:\n",
    "        mult = 28.3495\n",
    "    elif re.search(r'kg\\b|l\\b', quantity_string) is not None:\n",
    "        mult = 1000\n",
    "    else:\n",
    "        mult = 1\n",
    "        \n",
    "    #Si il n'y a pas de données numériques, alors nous ne pouvons rien extraire\n",
    "    if re.search(r'\\d+', quantity_string) is None:\n",
    "        return None\n",
    "    \n",
    "    else:\n",
    "        #Si la donnée numérique est de la forme (x produits * y), alors nous devons prendre en compte cette multiplication\n",
    "        if re.search(mult_pattern, quantity_string) is not None:\n",
    "            \n",
    "            mult_values = [float(x) for x in re.findall(num_pattern,re.findall(mult_pattern, quantity_string)[0])]\n",
    "            result = 1\n",
    "            for x in mult_values:\n",
    "                result = result*x\n",
    "            \n",
    "            if result <= quantity_max:\n",
    "                return result\n",
    "            else:\n",
    "                return None\n",
    "        \n",
    "        else:\n",
    "            results = [float(x) for x in re.findall(num_pattern, quantity_string)]\n",
    "            \n",
    "            if min(results) > quantity_max:\n",
    "                return None\n",
    "            \n",
    "            else:\n",
    "                results = [x for x in results if x<=quantity_max]\n",
    "                result = max(results)*mult \n",
    "                \n",
    "                if result <= quantity_max:\n",
    "                    return result\n",
    "                else:\n",
    "                    return None"
   ]
  },
  {
   "cell_type": "markdown",
   "id": "790e06bc-161f-48fa-a312-6ed691025654",
   "metadata": {},
   "source": [
    "Nous l'appliquons à notre base de données. Nous définissons la quantité maximale possible sur la base d'un pack de 6 bouteilles de 1,5L."
   ]
  },
  {
   "cell_type": "code",
   "execution_count": 6,
   "id": "d3ee7e75-086d-4918-aed1-95c25ff79ce4",
   "metadata": {},
   "outputs": [],
   "source": [
    "quantity_max = 6*1500\n",
    "FoodData.loc[:,'quantity'] = [extract_quantities(x, quantity_max) for x in FoodData[\"quantity\"]]"
   ]
  },
  {
   "cell_type": "markdown",
   "id": "27bc41ad-bb12-4bef-bf58-d2658daf254d",
   "metadata": {},
   "source": [
    "## 2.2. Valeurs aberrantes"
   ]
  },
  {
   "cell_type": "markdown",
   "id": "6184180c-8661-4c43-bfab-d165db8be94a",
   "metadata": {},
   "source": [
    "Nous cherchons ensuite à identifier les valeurs nutritionnelles, données numériques, avant de procéder à un premier traitement sur celles-ci.\n",
    "\n",
    "Nous savons que ces indicateurs sont de la forme `indicateur_100g`."
   ]
  },
  {
   "cell_type": "code",
   "execution_count": 7,
   "id": "da2bbb71-306e-4ad2-b96e-329f44bc501a",
   "metadata": {},
   "outputs": [],
   "source": [
    "numeric_fields = FoodData.columns[FoodData.columns.str.contains(r\"_100g\")].tolist()"
   ]
  },
  {
   "cell_type": "code",
   "execution_count": 8,
   "id": "2e04c48f-60de-403c-b991-533de221d18a",
   "metadata": {},
   "outputs": [
    {
     "data": {
      "text/markdown": [
       "Nous retenons 8 indicateurs numériques au total."
      ],
      "text/plain": [
       "<IPython.core.display.Markdown object>"
      ]
     },
     "metadata": {},
     "output_type": "display_data"
    }
   ],
   "source": [
    "display(Markdown(f\"Nous retenons {len(numeric_fields)} indicateurs numériques au total.\"))"
   ]
  },
  {
   "cell_type": "markdown",
   "id": "474c5a71-6325-4dde-98c3-876caaecd570",
   "metadata": {},
   "source": [
    "Compte tenu des indicateurs retenus, nous retirons les données annonçant plus de 100g d'un élément nutritionnel pour 100g de l'aliment."
   ]
  },
  {
   "cell_type": "code",
   "execution_count": 9,
   "id": "055d2bcd-6e5c-41f8-8a68-b7b8a5c74c2f",
   "metadata": {},
   "outputs": [],
   "source": [
    "numeric_fields_max_100 = numeric_fields.copy()\n",
    "numeric_fields_max_100.remove('energy-kcal_100g')\n",
    "\n",
    "FoodData = FoodData.loc[~(FoodData[numeric_fields_max_100]>100).any(axis = 1),:]\n",
    "FoodData.reset_index(inplace = True, drop = True)"
   ]
  },
  {
   "cell_type": "markdown",
   "id": "3981e9ea-ac39-4ee6-b331-e111127c9778",
   "metadata": {},
   "source": [
    "Nous allons également supprimer les lignes pour lesquelles la somme des valeurs nutritionnelles / 100g est supérieure à 100."
   ]
  },
  {
   "cell_type": "code",
   "execution_count": 10,
   "id": "929f57d2-89d8-4d96-bf21-39159d9ad679",
   "metadata": {},
   "outputs": [],
   "source": [
    "first_sum = FoodData.loc[:,[\"fat_100g\", \"carbohydrates_100g\", \"proteins_100g\", \"salt_100g\"]].sum(axis = 1, skipna = True)\n",
    "\n",
    "# Dans le cas où des valeurs seraient manquantes sur les principaux éléments pris en compte précedemment\n",
    "second_sum = np.nansum([\n",
    "    FoodData[\"saturated-fat_100g\"]*FoodData[\"fat_100g\"].isna(), \n",
    "    FoodData[\"sugars_100g\"]*FoodData[\"carbohydrates_100g\"].isna(),\n",
    "    FoodData[\"sodium_100g\"]*FoodData[\"salt_100g\"].isna()\n",
    "],axis=0)\n",
    "\n",
    "total_sum = first_sum + second_sum\n",
    "\n",
    "FoodData = FoodData.loc[total_sum <= 100, :]"
   ]
  },
  {
   "cell_type": "markdown",
   "id": "8c9d39e9-0a3d-4f39-bff1-efdb7803c6db",
   "metadata": {},
   "source": [
    "Nous allons également plafonner les valeur de certains indicateurs par celles des indicateurs qui les contiennent."
   ]
  },
  {
   "cell_type": "code",
   "execution_count": 11,
   "id": "3bbc08e0-1cc5-40bc-aff0-95fe7d37c798",
   "metadata": {},
   "outputs": [],
   "source": [
    "map_capping = FoodData['saturated-fat_100g']>FoodData['fat_100g']\n",
    "FoodData.loc[map_capping, 'saturated-fat_100g'] = FoodData.loc[map_capping, 'fat_100g']\n",
    "\n",
    "map_capping = FoodData['sugars_100g']>FoodData['carbohydrates_100g']\n",
    "FoodData.loc[map_capping, 'sugars_100g'] = FoodData.loc[map_capping, 'carbohydrates_100g']"
   ]
  },
  {
   "cell_type": "markdown",
   "id": "017c0723-f70c-4cf9-91fa-87b9cfd88eff",
   "metadata": {},
   "source": [
    "Nous pouvons également mettre un filtre sur les calories contenues dans les aliments. Une connaissance métier indique qu'il n'existe pas d'aliments apportant plus de 1,000 kcal / 100g. En tenant compte d'une potentielle erreur de conversion dans la saisie, nous pensons pouvoir retirer toutes les données affichant > 4,186.8 kcal / 100g.\n",
    "\n",
    "Afin de nous en assurer, nous allons étudier les éléments saisis."
   ]
  },
  {
   "cell_type": "code",
   "execution_count": 12,
   "id": "34101bdf-66b9-47af-b101-5b4dab2820d6",
   "metadata": {},
   "outputs": [],
   "source": [
    "kj_to_kcal = 1/4.1868"
   ]
  },
  {
   "cell_type": "code",
   "execution_count": 13,
   "id": "bd2353f2-6da0-435a-a2f5-4ef8d217d82b",
   "metadata": {},
   "outputs": [
    {
     "data": {
      "text/plain": [
       "array(['http://world-fr.openfoodfacts.org/produit/25168242/barres-noisettes-et-chocolat-equitable-bio-la-vie',\n",
       "       'http://world-fr.openfoodfacts.org/produit/3266191106540/acerola-1000-la-vie-claire',\n",
       "       'http://world-fr.openfoodfacts.org/produit/37600057990089/bruschetta-papi-mo',\n",
       "       'http://world-fr.openfoodfacts.org/produit/4056489028642/red-smoothie-solevita',\n",
       "       'http://world-fr.openfoodfacts.org/produit/9353323000471/deliciou-smoky-bbq-bacon'],\n",
       "      dtype=object)"
      ]
     },
     "execution_count": 13,
     "metadata": {},
     "output_type": "execute_result"
    }
   ],
   "source": [
    "FoodData.loc[FoodData['energy-kcal_100g']>1000/kj_to_kcal,\"url\"].values"
   ]
  },
  {
   "cell_type": "markdown",
   "id": "98fff9c0-c3d0-4818-aee5-dd9b34ff99b0",
   "metadata": {},
   "source": [
    "Une lecture des éléments saisis montre de claires incohérences entre les données réelles et la saisie. Nous les supprimons donc."
   ]
  },
  {
   "cell_type": "code",
   "execution_count": 14,
   "id": "b212912d-eab5-4c03-8748-d0144efbe9a2",
   "metadata": {},
   "outputs": [],
   "source": [
    "FoodData = FoodData.loc[FoodData['energy-kcal_100g']<=1000/kj_to_kcal,:]"
   ]
  },
  {
   "cell_type": "markdown",
   "id": "5be17563-1234-4aeb-8130-fd20839bcf54",
   "metadata": {},
   "source": [
    "Comme nous l'avons dit, il ne devrait pas y avoir de saisies à plus de 1,000 kcal / 100g. Néanmoins, il est possible que certains éléments aient été saisis en entrant l'information en kJ au lieu de kcal. Nous regardons un échantillon pour nous faire une opinion."
   ]
  },
  {
   "cell_type": "code",
   "execution_count": 15,
   "id": "59e0e7b9-15a1-4fa6-8100-bc2f70e6fa34",
   "metadata": {},
   "outputs": [
    {
     "data": {
      "text/plain": [
       "array(['http://world-fr.openfoodfacts.org/produit/5024278001298/9nine-bar-hindbaer-og-chia-med-carob-overtraek',\n",
       "       'http://world-fr.openfoodfacts.org/produit/7613034453600/cacao-nesquik',\n",
       "       'http://world-fr.openfoodfacts.org/produit/9300683071559/curry-traditionnel-60-g-keen-s-foods',\n",
       "       'http://world-fr.openfoodfacts.org/produit/3389090020882/rillettes-sardines-fines-herbes-bio-ty-gwenn',\n",
       "       'http://world-fr.openfoodfacts.org/produit/8410010260042/aceite-de-oliva-virgen-extra-carbonell'],\n",
       "      dtype=object)"
      ]
     },
     "execution_count": 15,
     "metadata": {},
     "output_type": "execute_result"
    }
   ],
   "source": [
    "FoodData.loc[FoodData['energy-kcal_100g']>=1000,\"url\"].sample(5).values"
   ]
  },
  {
   "cell_type": "markdown",
   "id": "0f937c20-1677-44b2-b865-8572d4caa225",
   "metadata": {},
   "source": [
    "Une lecture d'un échantillon de données saisies montre que les données en kJ ont été entrées au lieu de celles en kcal. Nous allons donc convertir en kcal tous les éléments saisis avec plus de 1,000 kcal / 100g."
   ]
  },
  {
   "cell_type": "code",
   "execution_count": 16,
   "id": "a6ad8dd3-db50-4839-9ed8-80661606fefc",
   "metadata": {},
   "outputs": [],
   "source": [
    "FoodData.loc[FoodData['energy-kcal_100g']>=1000,'energy-kcal_100g'] = FoodData.loc[FoodData['energy-kcal_100g']>=1000,'energy-kcal_100g']*kj_to_kcal"
   ]
  },
  {
   "cell_type": "markdown",
   "id": "3c5c2f5e-d835-449b-bcd2-4d11e52c59d7",
   "metadata": {},
   "source": [
    "Nous allons également considérer que les 0 entrés dans cet indicateur peuvent en réalité représenter une absence de saisie, pour les aliments qui ont des éléments énergétiques (protéines, graisses, glucides)."
   ]
  },
  {
   "cell_type": "code",
   "execution_count": 17,
   "id": "b4a1ac80-0bc2-4b91-abf9-abfe136f6d5c",
   "metadata": {},
   "outputs": [],
   "source": [
    "mapping = (FoodData['energy-kcal_100g']==0)&((FoodData[['fat_100g', 'saturated-fat_100g', 'carbohydrates_100g', 'sugars_100g', 'proteins_100g']]!=0).any(axis = 1))\n",
    "FoodData.loc[mapping, 'energy-kcal_100g'] = None"
   ]
  },
  {
   "cell_type": "markdown",
   "id": "eba85b22-4e03-4633-a069-645b4f65133c",
   "metadata": {},
   "source": [
    "Enfin, nous supprimons toutes les données négatives."
   ]
  },
  {
   "cell_type": "code",
   "execution_count": 18,
   "id": "0b8bff01-0f75-428f-a559-010b04897599",
   "metadata": {},
   "outputs": [],
   "source": [
    "FoodData = FoodData.loc[(FoodData[numeric_fields]>=0).all(axis = 1),:]"
   ]
  },
  {
   "cell_type": "code",
   "execution_count": 19,
   "id": "640dc568-609d-4a91-a767-328625e5fcf0",
   "metadata": {},
   "outputs": [],
   "source": [
    "FoodData.reset_index(inplace = True, drop = True)"
   ]
  },
  {
   "cell_type": "code",
   "execution_count": 20,
   "id": "d8d92b86-2223-49a7-be4f-f6e746bdc5dd",
   "metadata": {},
   "outputs": [
    {
     "data": {
      "text/markdown": [
       "La base de donnée contient désormais 360,574 lignes et 18 colonnes."
      ],
      "text/plain": [
       "<IPython.core.display.Markdown object>"
      ]
     },
     "metadata": {},
     "output_type": "display_data"
    }
   ],
   "source": [
    "display(Markdown(f\"La base de donnée contient désormais {FoodData.shape[0]:,d} lignes et {FoodData.shape[1]:,d} colonnes.\"))"
   ]
  },
  {
   "cell_type": "markdown",
   "id": "e0018a01-a021-4045-9776-4e2ed03f1b76",
   "metadata": {},
   "source": [
    "Nous pouvons l'enregistrer, pour l'utiliser dans la phase d'analyse."
   ]
  },
  {
   "cell_type": "code",
   "execution_count": 21,
   "id": "38ab569a-0e09-456d-b982-5f581c4d4bce",
   "metadata": {},
   "outputs": [
    {
     "name": "stdout",
     "output_type": "stream",
     "text": [
      "<class 'pandas.core.frame.DataFrame'>\n",
      "RangeIndex: 360574 entries, 0 to 360573\n",
      "Data columns (total 18 columns):\n",
      " #   Column                  Non-Null Count   Dtype              \n",
      "---  ------                  --------------   -----              \n",
      " 0   code                    360574 non-null  object             \n",
      " 1   url                     360574 non-null  object             \n",
      " 2   last_modified_datetime  360574 non-null  datetime64[ns, UTC]\n",
      " 3   image_small_url         348698 non-null  object             \n",
      " 4   product_name            359507 non-null  object             \n",
      " 5   quantity                216515 non-null  float64            \n",
      " 6   pnns_groups_1           360574 non-null  object             \n",
      " 7   pnns_groups_2           360574 non-null  object             \n",
      " 8   food_groups             294259 non-null  object             \n",
      " 9   nutriscore_grade        312568 non-null  object             \n",
      " 10  energy-kcal_100g        360574 non-null  float64            \n",
      " 11  fat_100g                360574 non-null  float64            \n",
      " 12  saturated-fat_100g      360574 non-null  float64            \n",
      " 13  carbohydrates_100g      360574 non-null  float64            \n",
      " 14  sugars_100g             360574 non-null  float64            \n",
      " 15  proteins_100g           360574 non-null  float64            \n",
      " 16  salt_100g               360574 non-null  float64            \n",
      " 17  sodium_100g             360574 non-null  float64            \n",
      "dtypes: datetime64[ns, UTC](1), float64(9), object(8)\n",
      "memory usage: 49.5+ MB\n"
     ]
    }
   ],
   "source": [
    "FoodData.info()"
   ]
  },
  {
   "cell_type": "code",
   "execution_count": 22,
   "id": "cb17e8eb-a528-48e9-b873-42cf13a033c2",
   "metadata": {},
   "outputs": [],
   "source": [
    "FoodData.to_feather('data/FoodData_wrangled.feather')"
   ]
  }
 ],
 "metadata": {
  "kernelspec": {
   "display_name": "Python 3",
   "language": "python",
   "name": "python3"
  },
  "language_info": {
   "codemirror_mode": {
    "name": "ipython",
    "version": 3
   },
   "file_extension": ".py",
   "mimetype": "text/x-python",
   "name": "python",
   "nbconvert_exporter": "python",
   "pygments_lexer": "ipython3",
   "version": "3.8.11"
  }
 },
 "nbformat": 4,
 "nbformat_minor": 5
}
