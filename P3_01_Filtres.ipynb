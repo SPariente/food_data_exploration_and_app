{
 "cells": [
  {
   "cell_type": "code",
   "execution_count": 1,
   "id": "e4821ac3-b6ac-4c64-875d-714bfb7dc057",
   "metadata": {},
   "outputs": [],
   "source": [
    "import pandas as pd\n",
    "import numpy as np\n",
    "import matplotlib.pyplot as plt\n",
    "from IPython.display import display, Markdown"
   ]
  },
  {
   "cell_type": "code",
   "execution_count": 2,
   "id": "d398706f-9e78-400a-99e9-ade4f2ccc464",
   "metadata": {},
   "outputs": [],
   "source": [
    "%matplotlib inline"
   ]
  },
  {
   "cell_type": "markdown",
   "id": "e70e2d02-f1e8-4485-a826-1cfb2c42b1b9",
   "metadata": {},
   "source": [
    "# 1. Traitements préliminaires et sélection des indicateurs / données"
   ]
  },
  {
   "cell_type": "markdown",
   "id": "b322edfe-0f26-46b7-9624-4065951ff69a",
   "metadata": {
    "tags": []
   },
   "source": [
    "## 1.1. Importation de la base de données"
   ]
  },
  {
   "cell_type": "markdown",
   "id": "692c0c47-928a-40a1-8fea-cbed47f7f8c7",
   "metadata": {},
   "source": [
    "Pour débuter, nous importons la base de données complète. Le site source contient des informations sur l'encodage de cette dernière."
   ]
  },
  {
   "cell_type": "code",
   "execution_count": 3,
   "id": "d219b6f8-10dc-4d2e-b868-5184823ed4e8",
   "metadata": {},
   "outputs": [],
   "source": [
    "FoodData = pd.read_csv(\"data/fr.openfoodfacts.org.products.csv\", sep='\\t', encoding = 'utf-8', low_memory=False)"
   ]
  },
  {
   "cell_type": "code",
   "execution_count": 4,
   "id": "0ecfbd04-a9e8-4325-bb41-2b3c7ad821f4",
   "metadata": {},
   "outputs": [
    {
     "data": {
      "text/html": [
       "<div>\n",
       "<style scoped>\n",
       "    .dataframe tbody tr th:only-of-type {\n",
       "        vertical-align: middle;\n",
       "    }\n",
       "\n",
       "    .dataframe tbody tr th {\n",
       "        vertical-align: top;\n",
       "    }\n",
       "\n",
       "    .dataframe thead th {\n",
       "        text-align: right;\n",
       "    }\n",
       "</style>\n",
       "<table border=\"1\" class=\"dataframe\">\n",
       "  <thead>\n",
       "    <tr style=\"text-align: right;\">\n",
       "      <th></th>\n",
       "      <th>code</th>\n",
       "      <th>url</th>\n",
       "      <th>creator</th>\n",
       "      <th>created_t</th>\n",
       "      <th>created_datetime</th>\n",
       "      <th>last_modified_t</th>\n",
       "      <th>last_modified_datetime</th>\n",
       "      <th>product_name</th>\n",
       "      <th>abbreviated_product_name</th>\n",
       "      <th>generic_name</th>\n",
       "      <th>...</th>\n",
       "      <th>carbon-footprint-from-meat-or-fish_100g</th>\n",
       "      <th>nutrition-score-fr_100g</th>\n",
       "      <th>nutrition-score-uk_100g</th>\n",
       "      <th>glycemic-index_100g</th>\n",
       "      <th>water-hardness_100g</th>\n",
       "      <th>choline_100g</th>\n",
       "      <th>phylloquinone_100g</th>\n",
       "      <th>beta-glucan_100g</th>\n",
       "      <th>inositol_100g</th>\n",
       "      <th>carnitine_100g</th>\n",
       "    </tr>\n",
       "  </thead>\n",
       "  <tbody>\n",
       "    <tr>\n",
       "      <th>0</th>\n",
       "      <td>00000000000000225</td>\n",
       "      <td>http://world-fr.openfoodfacts.org/produit/0000...</td>\n",
       "      <td>nutrinet-sante</td>\n",
       "      <td>1623855208</td>\n",
       "      <td>2021-06-16T14:53:28Z</td>\n",
       "      <td>1623855209</td>\n",
       "      <td>2021-06-16T14:53:29Z</td>\n",
       "      <td>jeunes pousses</td>\n",
       "      <td>NaN</td>\n",
       "      <td>NaN</td>\n",
       "      <td>...</td>\n",
       "      <td>NaN</td>\n",
       "      <td>NaN</td>\n",
       "      <td>NaN</td>\n",
       "      <td>NaN</td>\n",
       "      <td>NaN</td>\n",
       "      <td>NaN</td>\n",
       "      <td>NaN</td>\n",
       "      <td>NaN</td>\n",
       "      <td>NaN</td>\n",
       "      <td>NaN</td>\n",
       "    </tr>\n",
       "    <tr>\n",
       "      <th>1</th>\n",
       "      <td>00000000000003429145</td>\n",
       "      <td>http://world-fr.openfoodfacts.org/produit/0000...</td>\n",
       "      <td>kiliweb</td>\n",
       "      <td>1630483911</td>\n",
       "      <td>2021-09-01T08:11:51Z</td>\n",
       "      <td>1630484064</td>\n",
       "      <td>2021-09-01T08:14:24Z</td>\n",
       "      <td>L.casei</td>\n",
       "      <td>NaN</td>\n",
       "      <td>NaN</td>\n",
       "      <td>...</td>\n",
       "      <td>NaN</td>\n",
       "      <td>NaN</td>\n",
       "      <td>NaN</td>\n",
       "      <td>NaN</td>\n",
       "      <td>NaN</td>\n",
       "      <td>NaN</td>\n",
       "      <td>NaN</td>\n",
       "      <td>NaN</td>\n",
       "      <td>NaN</td>\n",
       "      <td>NaN</td>\n",
       "    </tr>\n",
       "    <tr>\n",
       "      <th>2</th>\n",
       "      <td>0000000000017</td>\n",
       "      <td>http://world-fr.openfoodfacts.org/produit/0000...</td>\n",
       "      <td>kiliweb</td>\n",
       "      <td>1529059080</td>\n",
       "      <td>2018-06-15T10:38:00Z</td>\n",
       "      <td>1561463718</td>\n",
       "      <td>2019-06-25T11:55:18Z</td>\n",
       "      <td>Vitória crackers</td>\n",
       "      <td>NaN</td>\n",
       "      <td>NaN</td>\n",
       "      <td>...</td>\n",
       "      <td>NaN</td>\n",
       "      <td>NaN</td>\n",
       "      <td>NaN</td>\n",
       "      <td>NaN</td>\n",
       "      <td>NaN</td>\n",
       "      <td>NaN</td>\n",
       "      <td>NaN</td>\n",
       "      <td>NaN</td>\n",
       "      <td>NaN</td>\n",
       "      <td>NaN</td>\n",
       "    </tr>\n",
       "    <tr>\n",
       "      <th>3</th>\n",
       "      <td>0000000000031</td>\n",
       "      <td>http://world-fr.openfoodfacts.org/produit/0000...</td>\n",
       "      <td>isagoofy</td>\n",
       "      <td>1539464774</td>\n",
       "      <td>2018-10-13T21:06:14Z</td>\n",
       "      <td>1539464817</td>\n",
       "      <td>2018-10-13T21:06:57Z</td>\n",
       "      <td>Cacao</td>\n",
       "      <td>NaN</td>\n",
       "      <td>NaN</td>\n",
       "      <td>...</td>\n",
       "      <td>NaN</td>\n",
       "      <td>NaN</td>\n",
       "      <td>NaN</td>\n",
       "      <td>NaN</td>\n",
       "      <td>NaN</td>\n",
       "      <td>NaN</td>\n",
       "      <td>NaN</td>\n",
       "      <td>NaN</td>\n",
       "      <td>NaN</td>\n",
       "      <td>NaN</td>\n",
       "    </tr>\n",
       "    <tr>\n",
       "      <th>4</th>\n",
       "      <td>000000000003327986</td>\n",
       "      <td>http://world-fr.openfoodfacts.org/produit/0000...</td>\n",
       "      <td>kiliweb</td>\n",
       "      <td>1574175736</td>\n",
       "      <td>2019-11-19T15:02:16Z</td>\n",
       "      <td>1624390765</td>\n",
       "      <td>2021-06-22T19:39:25Z</td>\n",
       "      <td>Filetes de pollo empanado</td>\n",
       "      <td>NaN</td>\n",
       "      <td>NaN</td>\n",
       "      <td>...</td>\n",
       "      <td>NaN</td>\n",
       "      <td>NaN</td>\n",
       "      <td>NaN</td>\n",
       "      <td>NaN</td>\n",
       "      <td>NaN</td>\n",
       "      <td>NaN</td>\n",
       "      <td>NaN</td>\n",
       "      <td>NaN</td>\n",
       "      <td>NaN</td>\n",
       "      <td>NaN</td>\n",
       "    </tr>\n",
       "  </tbody>\n",
       "</table>\n",
       "<p>5 rows × 191 columns</p>\n",
       "</div>"
      ],
      "text/plain": [
       "                   code                                                url  \\\n",
       "0     00000000000000225  http://world-fr.openfoodfacts.org/produit/0000...   \n",
       "1  00000000000003429145  http://world-fr.openfoodfacts.org/produit/0000...   \n",
       "2         0000000000017  http://world-fr.openfoodfacts.org/produit/0000...   \n",
       "3         0000000000031  http://world-fr.openfoodfacts.org/produit/0000...   \n",
       "4    000000000003327986  http://world-fr.openfoodfacts.org/produit/0000...   \n",
       "\n",
       "          creator   created_t      created_datetime  last_modified_t  \\\n",
       "0  nutrinet-sante  1623855208  2021-06-16T14:53:28Z       1623855209   \n",
       "1         kiliweb  1630483911  2021-09-01T08:11:51Z       1630484064   \n",
       "2         kiliweb  1529059080  2018-06-15T10:38:00Z       1561463718   \n",
       "3        isagoofy  1539464774  2018-10-13T21:06:14Z       1539464817   \n",
       "4         kiliweb  1574175736  2019-11-19T15:02:16Z       1624390765   \n",
       "\n",
       "  last_modified_datetime               product_name abbreviated_product_name  \\\n",
       "0   2021-06-16T14:53:29Z             jeunes pousses                      NaN   \n",
       "1   2021-09-01T08:14:24Z                    L.casei                      NaN   \n",
       "2   2019-06-25T11:55:18Z           Vitória crackers                      NaN   \n",
       "3   2018-10-13T21:06:57Z                      Cacao                      NaN   \n",
       "4   2021-06-22T19:39:25Z  Filetes de pollo empanado                      NaN   \n",
       "\n",
       "  generic_name  ... carbon-footprint-from-meat-or-fish_100g  \\\n",
       "0          NaN  ...                                     NaN   \n",
       "1          NaN  ...                                     NaN   \n",
       "2          NaN  ...                                     NaN   \n",
       "3          NaN  ...                                     NaN   \n",
       "4          NaN  ...                                     NaN   \n",
       "\n",
       "  nutrition-score-fr_100g nutrition-score-uk_100g glycemic-index_100g  \\\n",
       "0                     NaN                     NaN                 NaN   \n",
       "1                     NaN                     NaN                 NaN   \n",
       "2                     NaN                     NaN                 NaN   \n",
       "3                     NaN                     NaN                 NaN   \n",
       "4                     NaN                     NaN                 NaN   \n",
       "\n",
       "  water-hardness_100g choline_100g phylloquinone_100g beta-glucan_100g  \\\n",
       "0                 NaN          NaN                NaN              NaN   \n",
       "1                 NaN          NaN                NaN              NaN   \n",
       "2                 NaN          NaN                NaN              NaN   \n",
       "3                 NaN          NaN                NaN              NaN   \n",
       "4                 NaN          NaN                NaN              NaN   \n",
       "\n",
       "  inositol_100g carnitine_100g  \n",
       "0           NaN            NaN  \n",
       "1           NaN            NaN  \n",
       "2           NaN            NaN  \n",
       "3           NaN            NaN  \n",
       "4           NaN            NaN  \n",
       "\n",
       "[5 rows x 191 columns]"
      ]
     },
     "execution_count": 4,
     "metadata": {},
     "output_type": "execute_result"
    }
   ],
   "source": [
    "FoodData.head()"
   ]
  },
  {
   "cell_type": "markdown",
   "id": "585c364c-304f-4047-a8ea-379aa45dc0cd",
   "metadata": {},
   "source": [
    "## 1.2. Filtrage des données alimentaires relatives à la France"
   ]
  },
  {
   "cell_type": "markdown",
   "id": "7e63b25f-ce8c-4528-bf9e-14c9a126cf93",
   "metadata": {},
   "source": [
    "Notre application n'étant destinée qu'à un public en France, nous filtrons sur les données contenant `france` comme tag."
   ]
  },
  {
   "cell_type": "code",
   "execution_count": 5,
   "id": "d4f1ef72-f9e9-446d-886c-430d9b4c110c",
   "metadata": {},
   "outputs": [],
   "source": [
    "FoodData = FoodData.loc[FoodData.loc[:,'countries_tags'].str.contains('france', na=False),:]"
   ]
  },
  {
   "cell_type": "code",
   "execution_count": 6,
   "id": "cc47fcef-ea1d-4019-a5a1-ea0959a12e17",
   "metadata": {},
   "outputs": [],
   "source": [
    "FoodData.reset_index(inplace = True, drop = True)"
   ]
  },
  {
   "cell_type": "code",
   "execution_count": 7,
   "id": "645adf9b-12cb-480a-ab92-5dd10bccb734",
   "metadata": {},
   "outputs": [
    {
     "data": {
      "text/html": [
       "<div>\n",
       "<style scoped>\n",
       "    .dataframe tbody tr th:only-of-type {\n",
       "        vertical-align: middle;\n",
       "    }\n",
       "\n",
       "    .dataframe tbody tr th {\n",
       "        vertical-align: top;\n",
       "    }\n",
       "\n",
       "    .dataframe thead th {\n",
       "        text-align: right;\n",
       "    }\n",
       "</style>\n",
       "<table border=\"1\" class=\"dataframe\">\n",
       "  <thead>\n",
       "    <tr style=\"text-align: right;\">\n",
       "      <th></th>\n",
       "      <th>code</th>\n",
       "      <th>url</th>\n",
       "      <th>creator</th>\n",
       "      <th>created_t</th>\n",
       "      <th>created_datetime</th>\n",
       "      <th>last_modified_t</th>\n",
       "      <th>last_modified_datetime</th>\n",
       "      <th>product_name</th>\n",
       "      <th>abbreviated_product_name</th>\n",
       "      <th>generic_name</th>\n",
       "      <th>...</th>\n",
       "      <th>carbon-footprint-from-meat-or-fish_100g</th>\n",
       "      <th>nutrition-score-fr_100g</th>\n",
       "      <th>nutrition-score-uk_100g</th>\n",
       "      <th>glycemic-index_100g</th>\n",
       "      <th>water-hardness_100g</th>\n",
       "      <th>choline_100g</th>\n",
       "      <th>phylloquinone_100g</th>\n",
       "      <th>beta-glucan_100g</th>\n",
       "      <th>inositol_100g</th>\n",
       "      <th>carnitine_100g</th>\n",
       "    </tr>\n",
       "  </thead>\n",
       "  <tbody>\n",
       "    <tr>\n",
       "      <th>0</th>\n",
       "      <td>00000000000000225</td>\n",
       "      <td>http://world-fr.openfoodfacts.org/produit/0000...</td>\n",
       "      <td>nutrinet-sante</td>\n",
       "      <td>1623855208</td>\n",
       "      <td>2021-06-16T14:53:28Z</td>\n",
       "      <td>1623855209</td>\n",
       "      <td>2021-06-16T14:53:29Z</td>\n",
       "      <td>jeunes pousses</td>\n",
       "      <td>NaN</td>\n",
       "      <td>NaN</td>\n",
       "      <td>...</td>\n",
       "      <td>NaN</td>\n",
       "      <td>NaN</td>\n",
       "      <td>NaN</td>\n",
       "      <td>NaN</td>\n",
       "      <td>NaN</td>\n",
       "      <td>NaN</td>\n",
       "      <td>NaN</td>\n",
       "      <td>NaN</td>\n",
       "      <td>NaN</td>\n",
       "      <td>NaN</td>\n",
       "    </tr>\n",
       "    <tr>\n",
       "      <th>1</th>\n",
       "      <td>0000000000017</td>\n",
       "      <td>http://world-fr.openfoodfacts.org/produit/0000...</td>\n",
       "      <td>kiliweb</td>\n",
       "      <td>1529059080</td>\n",
       "      <td>2018-06-15T10:38:00Z</td>\n",
       "      <td>1561463718</td>\n",
       "      <td>2019-06-25T11:55:18Z</td>\n",
       "      <td>Vitória crackers</td>\n",
       "      <td>NaN</td>\n",
       "      <td>NaN</td>\n",
       "      <td>...</td>\n",
       "      <td>NaN</td>\n",
       "      <td>NaN</td>\n",
       "      <td>NaN</td>\n",
       "      <td>NaN</td>\n",
       "      <td>NaN</td>\n",
       "      <td>NaN</td>\n",
       "      <td>NaN</td>\n",
       "      <td>NaN</td>\n",
       "      <td>NaN</td>\n",
       "      <td>NaN</td>\n",
       "    </tr>\n",
       "    <tr>\n",
       "      <th>2</th>\n",
       "      <td>0000000000031</td>\n",
       "      <td>http://world-fr.openfoodfacts.org/produit/0000...</td>\n",
       "      <td>isagoofy</td>\n",
       "      <td>1539464774</td>\n",
       "      <td>2018-10-13T21:06:14Z</td>\n",
       "      <td>1539464817</td>\n",
       "      <td>2018-10-13T21:06:57Z</td>\n",
       "      <td>Cacao</td>\n",
       "      <td>NaN</td>\n",
       "      <td>NaN</td>\n",
       "      <td>...</td>\n",
       "      <td>NaN</td>\n",
       "      <td>NaN</td>\n",
       "      <td>NaN</td>\n",
       "      <td>NaN</td>\n",
       "      <td>NaN</td>\n",
       "      <td>NaN</td>\n",
       "      <td>NaN</td>\n",
       "      <td>NaN</td>\n",
       "      <td>NaN</td>\n",
       "      <td>NaN</td>\n",
       "    </tr>\n",
       "    <tr>\n",
       "      <th>3</th>\n",
       "      <td>0000000000100</td>\n",
       "      <td>http://world-fr.openfoodfacts.org/produit/0000...</td>\n",
       "      <td>del51</td>\n",
       "      <td>1444572561</td>\n",
       "      <td>2015-10-11T14:09:21Z</td>\n",
       "      <td>1444659212</td>\n",
       "      <td>2015-10-12T14:13:32Z</td>\n",
       "      <td>moutarde au moût de raisin</td>\n",
       "      <td>NaN</td>\n",
       "      <td>NaN</td>\n",
       "      <td>...</td>\n",
       "      <td>NaN</td>\n",
       "      <td>18.0</td>\n",
       "      <td>NaN</td>\n",
       "      <td>NaN</td>\n",
       "      <td>NaN</td>\n",
       "      <td>NaN</td>\n",
       "      <td>NaN</td>\n",
       "      <td>NaN</td>\n",
       "      <td>NaN</td>\n",
       "      <td>NaN</td>\n",
       "    </tr>\n",
       "    <tr>\n",
       "      <th>4</th>\n",
       "      <td>0000000000123</td>\n",
       "      <td>http://world-fr.openfoodfacts.org/produit/0000...</td>\n",
       "      <td>kiliweb</td>\n",
       "      <td>1535737982</td>\n",
       "      <td>2018-08-31T17:53:02Z</td>\n",
       "      <td>1535737986</td>\n",
       "      <td>2018-08-31T17:53:06Z</td>\n",
       "      <td>Sauce Sweety chili 0%</td>\n",
       "      <td>NaN</td>\n",
       "      <td>NaN</td>\n",
       "      <td>...</td>\n",
       "      <td>NaN</td>\n",
       "      <td>NaN</td>\n",
       "      <td>NaN</td>\n",
       "      <td>NaN</td>\n",
       "      <td>NaN</td>\n",
       "      <td>NaN</td>\n",
       "      <td>NaN</td>\n",
       "      <td>NaN</td>\n",
       "      <td>NaN</td>\n",
       "      <td>NaN</td>\n",
       "    </tr>\n",
       "  </tbody>\n",
       "</table>\n",
       "<p>5 rows × 191 columns</p>\n",
       "</div>"
      ],
      "text/plain": [
       "                code                                                url  \\\n",
       "0  00000000000000225  http://world-fr.openfoodfacts.org/produit/0000...   \n",
       "1      0000000000017  http://world-fr.openfoodfacts.org/produit/0000...   \n",
       "2      0000000000031  http://world-fr.openfoodfacts.org/produit/0000...   \n",
       "3      0000000000100  http://world-fr.openfoodfacts.org/produit/0000...   \n",
       "4      0000000000123  http://world-fr.openfoodfacts.org/produit/0000...   \n",
       "\n",
       "          creator   created_t      created_datetime  last_modified_t  \\\n",
       "0  nutrinet-sante  1623855208  2021-06-16T14:53:28Z       1623855209   \n",
       "1         kiliweb  1529059080  2018-06-15T10:38:00Z       1561463718   \n",
       "2        isagoofy  1539464774  2018-10-13T21:06:14Z       1539464817   \n",
       "3           del51  1444572561  2015-10-11T14:09:21Z       1444659212   \n",
       "4         kiliweb  1535737982  2018-08-31T17:53:02Z       1535737986   \n",
       "\n",
       "  last_modified_datetime                  product_name  \\\n",
       "0   2021-06-16T14:53:29Z                jeunes pousses   \n",
       "1   2019-06-25T11:55:18Z              Vitória crackers   \n",
       "2   2018-10-13T21:06:57Z                         Cacao   \n",
       "3   2015-10-12T14:13:32Z   moutarde au moût de raisin    \n",
       "4   2018-08-31T17:53:06Z         Sauce Sweety chili 0%   \n",
       "\n",
       "  abbreviated_product_name generic_name  ...  \\\n",
       "0                      NaN          NaN  ...   \n",
       "1                      NaN          NaN  ...   \n",
       "2                      NaN          NaN  ...   \n",
       "3                      NaN          NaN  ...   \n",
       "4                      NaN          NaN  ...   \n",
       "\n",
       "  carbon-footprint-from-meat-or-fish_100g nutrition-score-fr_100g  \\\n",
       "0                                     NaN                     NaN   \n",
       "1                                     NaN                     NaN   \n",
       "2                                     NaN                     NaN   \n",
       "3                                     NaN                    18.0   \n",
       "4                                     NaN                     NaN   \n",
       "\n",
       "  nutrition-score-uk_100g glycemic-index_100g water-hardness_100g  \\\n",
       "0                     NaN                 NaN                 NaN   \n",
       "1                     NaN                 NaN                 NaN   \n",
       "2                     NaN                 NaN                 NaN   \n",
       "3                     NaN                 NaN                 NaN   \n",
       "4                     NaN                 NaN                 NaN   \n",
       "\n",
       "  choline_100g phylloquinone_100g beta-glucan_100g inositol_100g  \\\n",
       "0          NaN                NaN              NaN           NaN   \n",
       "1          NaN                NaN              NaN           NaN   \n",
       "2          NaN                NaN              NaN           NaN   \n",
       "3          NaN                NaN              NaN           NaN   \n",
       "4          NaN                NaN              NaN           NaN   \n",
       "\n",
       "  carnitine_100g  \n",
       "0            NaN  \n",
       "1            NaN  \n",
       "2            NaN  \n",
       "3            NaN  \n",
       "4            NaN  \n",
       "\n",
       "[5 rows x 191 columns]"
      ]
     },
     "execution_count": 7,
     "metadata": {},
     "output_type": "execute_result"
    }
   ],
   "source": [
    "FoodData.head()"
   ]
  },
  {
   "cell_type": "code",
   "execution_count": 8,
   "id": "50f1e077-a893-4a0a-a15b-6e659b3a394f",
   "metadata": {},
   "outputs": [
    {
     "name": "stdout",
     "output_type": "stream",
     "text": [
      "<class 'pandas.core.frame.DataFrame'>\n",
      "RangeIndex: 874943 entries, 0 to 874942\n",
      "Columns: 191 entries, code to carnitine_100g\n",
      "dtypes: float64(124), int64(2), object(65)\n",
      "memory usage: 1.2+ GB\n"
     ]
    }
   ],
   "source": [
    "FoodData.info()"
   ]
  },
  {
   "cell_type": "markdown",
   "id": "7707619c-2f86-4bdd-8798-a2db98638959",
   "metadata": {},
   "source": [
    "## 1.3. Exploration préliminaire"
   ]
  },
  {
   "cell_type": "markdown",
   "id": "6736a404-ee97-4a28-ad6f-d5c05abe329a",
   "metadata": {},
   "source": [
    "### 1.3.1. Complétion des données manquantes sur la base d'autres éléments"
   ]
  },
  {
   "cell_type": "markdown",
   "id": "005faee2-2743-4bd5-a489-524ad0e42fe9",
   "metadata": {},
   "source": [
    "Une lecture du data dictionary indique que certaines données peuvent se trouver sous plusieurs noms. C'est le cas de l'énergie alimentaire (sous 3 indicateurs possibles), de la vitamine A (2 indicateurs) et de la vitamine B9 (2 indicateurs). Afin de rationaliser l'analyse des données, nous allons condenser les informations contenues sur 3 colonnes au lieu de 7."
   ]
  },
  {
   "cell_type": "markdown",
   "id": "1880a343-e1d2-4f8b-9ff5-63173daee439",
   "metadata": {},
   "source": [
    "Nous procédons donc au calcul des données manquantes en kcal/100g sur la base des données kJ/100g, et supprimons cette deuxième colonne."
   ]
  },
  {
   "cell_type": "code",
   "execution_count": 9,
   "id": "7ddfad4d-4db3-493c-816a-9bb0e9876b0b",
   "metadata": {},
   "outputs": [],
   "source": [
    "kj_to_kcal = 1/4.1868\n",
    "kcal = \"energy-kcal_100g\"\n",
    "kj = \"energy-kj_100g\"\n",
    "\n",
    "FoodData.loc[((FoodData[kcal]==0)|(FoodData[kcal].isna()))&((FoodData[kj]!=0)&(FoodData[kj].notna())), kcal] = FoodData.loc[((FoodData[kcal]==0)|(FoodData[kcal].isna()))&((FoodData[kj]!=0)&(FoodData[kj].notna())), kj]*kj_to_kcal\n",
    "FoodData.drop(columns = kj, inplace = True)"
   ]
  },
  {
   "cell_type": "markdown",
   "id": "9948b920-1bd4-4ef0-b1d7-07b866d486e2",
   "metadata": {},
   "source": [
    "Par ailleurs, une comparaison des données contenues dans la colonne `energy_100g` et `energy-kcal_100g` donne la vision suivante."
   ]
  },
  {
   "cell_type": "code",
   "execution_count": 10,
   "id": "9e69b1f7-76b5-4d8b-9ba3-81f559d67ea4",
   "metadata": {},
   "outputs": [
    {
     "data": {
      "text/html": [
       "<div>\n",
       "<style scoped>\n",
       "    .dataframe tbody tr th:only-of-type {\n",
       "        vertical-align: middle;\n",
       "    }\n",
       "\n",
       "    .dataframe tbody tr th {\n",
       "        vertical-align: top;\n",
       "    }\n",
       "\n",
       "    .dataframe thead th {\n",
       "        text-align: right;\n",
       "    }\n",
       "</style>\n",
       "<table border=\"1\" class=\"dataframe\">\n",
       "  <thead>\n",
       "    <tr style=\"text-align: right;\">\n",
       "      <th></th>\n",
       "      <th>energy_100g</th>\n",
       "      <th>energy-kcal_100g</th>\n",
       "    </tr>\n",
       "  </thead>\n",
       "  <tbody>\n",
       "    <tr>\n",
       "      <th>count</th>\n",
       "      <td>677084</td>\n",
       "      <td>676853</td>\n",
       "    </tr>\n",
       "    <tr>\n",
       "      <th>mean</th>\n",
       "      <td>1277</td>\n",
       "      <td>276</td>\n",
       "    </tr>\n",
       "    <tr>\n",
       "      <th>std</th>\n",
       "      <td>99996</td>\n",
       "      <td>380</td>\n",
       "    </tr>\n",
       "    <tr>\n",
       "      <th>min</th>\n",
       "      <td>0</td>\n",
       "      <td>0</td>\n",
       "    </tr>\n",
       "    <tr>\n",
       "      <th>25%</th>\n",
       "      <td>464</td>\n",
       "      <td>111</td>\n",
       "    </tr>\n",
       "    <tr>\n",
       "      <th>50%</th>\n",
       "      <td>1095</td>\n",
       "      <td>262</td>\n",
       "    </tr>\n",
       "    <tr>\n",
       "      <th>75%</th>\n",
       "      <td>1674</td>\n",
       "      <td>400</td>\n",
       "    </tr>\n",
       "    <tr>\n",
       "      <th>max</th>\n",
       "      <td>82272828</td>\n",
       "      <td>261359</td>\n",
       "    </tr>\n",
       "  </tbody>\n",
       "</table>\n",
       "</div>"
      ],
      "text/plain": [
       "       energy_100g  energy-kcal_100g\n",
       "count       677084            676853\n",
       "mean          1277               276\n",
       "std          99996               380\n",
       "min              0                 0\n",
       "25%            464               111\n",
       "50%           1095               262\n",
       "75%           1674               400\n",
       "max       82272828            261359"
      ]
     },
     "execution_count": 10,
     "metadata": {},
     "output_type": "execute_result"
    }
   ],
   "source": [
    "FoodData.loc[:,['energy_100g','energy-kcal_100g']].describe().astype('int')"
   ]
  },
  {
   "cell_type": "markdown",
   "id": "6f517c2b-3c3d-4316-ad08-1c8ae724976b",
   "metadata": {},
   "source": [
    "On peut remarquer que les quartiles de l'indicateur `energy_100g` sont un peu plus que 4 fois supérieurs à ceux de l'indicateur `energy-kcal_100g`, ce qui est cohérent avec le fait que le premier indicateur représente des données en kJ (1kcal = 4.1868 kJ). Nous allons donc continuer de compléter l'information contenue dans l'indicateur `energy-kcal_100g` à l'aide de `energy_100g`, en considérant que ce dernier contient des données en kJ."
   ]
  },
  {
   "cell_type": "code",
   "execution_count": 11,
   "id": "6e09c547-d303-4203-8857-941a6f9f929a",
   "metadata": {},
   "outputs": [],
   "source": [
    "kj = \"energy_100g\"\n",
    "\n",
    "FoodData.loc[((FoodData[kcal]==0)|(FoodData[kcal].isna()))&((FoodData[kj]!=0)&(FoodData[kj].notna())), kcal] = FoodData.loc[((FoodData[kcal]==0)|(FoodData[kcal].isna()))&((FoodData[kj]!=0)&(FoodData[kj].notna())), kj]*kj_to_kcal\n",
    "FoodData.drop(columns = kj, inplace = True)"
   ]
  },
  {
   "cell_type": "markdown",
   "id": "803a9596-8992-4e28-a8a3-cefff5b18401",
   "metadata": {},
   "source": [
    "### 1.3.2. Filtrage des données"
   ]
  },
  {
   "cell_type": "markdown",
   "id": "be53e2df-cf77-4720-bc4b-0e93d616c565",
   "metadata": {},
   "source": [
    "Afin de sélectionner les indicateurs que nous utiliserons, nous allons procéder par filtres successifs."
   ]
  },
  {
   "cell_type": "markdown",
   "id": "8f1a835b-62e8-4997-82ab-d4e68ee6fa50",
   "metadata": {},
   "source": [
    "La base de données étant de nature collaborative, nous allons créer un filtre basé sur la complétude des éléments saisis."
   ]
  },
  {
   "cell_type": "code",
   "execution_count": 12,
   "id": "3908343e-5964-47c3-a345-c5f7e6c848fe",
   "metadata": {},
   "outputs": [],
   "source": [
    "def entries_filter(data, na_threshold):\n",
    "    \n",
    "    '''\n",
    "    Fonction filtrant les lignes en fonction du nombre de valeurs manquantes.\n",
    "    \n",
    "    Paramètres\n",
    "    ----------\n",
    "    data : données à filtrer, format DataFrame de dimension n*c.\n",
    "    na_threshold : ratio maximal de valeurs manquantes au-delà duquel la ligne est supprimée.\n",
    "    \n",
    "    Résultat\n",
    "    --------\n",
    "    DataFrame de dimension (n-lignes rejetées)*c contenant l'ensemble des lignes passant le filtre.\n",
    "    \n",
    "    '''\n",
    "    \n",
    "    length = data.shape[1]\n",
    "    \n",
    "    entries_retained = data.dropna(axis = 0, thresh = (1-na_threshold) * length)\n",
    "    entries_retained.reset_index(inplace = True, drop = True)\n",
    "    \n",
    "    return entries_retained"
   ]
  },
  {
   "cell_type": "markdown",
   "id": "7804a95b-81d3-431a-98f2-4db01a05f552",
   "metadata": {},
   "source": [
    "Un second filtre mis en place visera à identifier les indicateurs les plus complets."
   ]
  },
  {
   "cell_type": "code",
   "execution_count": 13,
   "id": "b2bcc055-af1d-416a-b102-d9a14d0f659e",
   "metadata": {},
   "outputs": [],
   "source": [
    "def indicator_filter(data, na_threshold):\n",
    "    \n",
    "    '''\n",
    "    Fonction filtrant la liste de colonnes (= les indicateurs) en fonction du nombre de valeurs manquantes.\n",
    "    \n",
    "    Paramètres\n",
    "    ----------\n",
    "    data : données à filtrer, format DataFrame, dont les noms de colonnes sont uniques.\n",
    "    na_threshold : ratio maximal de valeurs manquantes au-delà duquel l'indicateur est rejeté.\n",
    "    \n",
    "    Résultat\n",
    "    --------\n",
    "    list contenant l'ensemble des indicateurs passant le filtre.\n",
    "    \n",
    "    '''\n",
    "    \n",
    "    length = data.shape[0]\n",
    "    \n",
    "    if data.columns.nunique() != len(data.columns):\n",
    "        raise ValueError(\"La liste d'indicateurs (noms de colonnes) ne doit contenir que des valeurs uniques.\")\n",
    "        \n",
    "    indicators_retained = data.dropna(axis = 1, thresh = (1-na_threshold) * length)\n",
    "    \n",
    "    indicators_retained = indicators_retained.columns.tolist()\n",
    "    \n",
    "    return indicators_retained"
   ]
  },
  {
   "cell_type": "markdown",
   "id": "cf73d47a-9c7c-4f60-984f-7a9c40ab18f0",
   "metadata": {},
   "source": [
    "#### 1.3.2.1. Filtrage des indicateurs"
   ]
  },
  {
   "cell_type": "code",
   "execution_count": 14,
   "id": "4c4faa18-9752-4223-b7ee-4268cd9bdf24",
   "metadata": {},
   "outputs": [
    {
     "data": {
      "text/html": [
       "<div>\n",
       "<style scoped>\n",
       "    .dataframe tbody tr th:only-of-type {\n",
       "        vertical-align: middle;\n",
       "    }\n",
       "\n",
       "    .dataframe tbody tr th {\n",
       "        vertical-align: top;\n",
       "    }\n",
       "\n",
       "    .dataframe thead th {\n",
       "        text-align: right;\n",
       "    }\n",
       "</style>\n",
       "<table border=\"1\" class=\"dataframe\">\n",
       "  <thead>\n",
       "    <tr style=\"text-align: right;\">\n",
       "      <th></th>\n",
       "      <th>Ratio maximal de NaN</th>\n",
       "      <th>Nombre d'indicateurs restants</th>\n",
       "    </tr>\n",
       "  </thead>\n",
       "  <tbody>\n",
       "    <tr>\n",
       "      <th>0</th>\n",
       "      <td>0.4</td>\n",
       "      <td>26</td>\n",
       "    </tr>\n",
       "    <tr>\n",
       "      <th>1</th>\n",
       "      <td>0.5</td>\n",
       "      <td>32</td>\n",
       "    </tr>\n",
       "    <tr>\n",
       "      <th>2</th>\n",
       "      <td>0.6</td>\n",
       "      <td>40</td>\n",
       "    </tr>\n",
       "    <tr>\n",
       "      <th>3</th>\n",
       "      <td>0.7</td>\n",
       "      <td>49</td>\n",
       "    </tr>\n",
       "    <tr>\n",
       "      <th>4</th>\n",
       "      <td>0.8</td>\n",
       "      <td>58</td>\n",
       "    </tr>\n",
       "    <tr>\n",
       "      <th>5</th>\n",
       "      <td>0.9</td>\n",
       "      <td>68</td>\n",
       "    </tr>\n",
       "  </tbody>\n",
       "</table>\n",
       "</div>"
      ],
      "text/plain": [
       "   Ratio maximal de NaN  Nombre d'indicateurs restants\n",
       "0                   0.4                             26\n",
       "1                   0.5                             32\n",
       "2                   0.6                             40\n",
       "3                   0.7                             49\n",
       "4                   0.8                             58\n",
       "5                   0.9                             68"
      ]
     },
     "execution_count": 14,
     "metadata": {},
     "output_type": "execute_result"
    }
   ],
   "source": [
    "na_threshold = []\n",
    "nb_indicators = []\n",
    "\n",
    "for i in np.arange(0.4,1.0,0.1):\n",
    "    na_threshold.append(i)\n",
    "    nb_indicators.append(len(indicator_filter(FoodData,i)))\n",
    "    \n",
    "filter_df = pd.DataFrame({\n",
    "    \"Ratio maximal de NaN\": na_threshold,\n",
    "    \"Nombre d'indicateurs restants\": nb_indicators\n",
    "})\n",
    "\n",
    "filter_df"
   ]
  },
  {
   "cell_type": "code",
   "execution_count": 15,
   "id": "0421495e-5834-4857-aad9-07f92b6969ff",
   "metadata": {},
   "outputs": [
    {
     "data": {
      "text/markdown": [
       "Nous retenons un maximum de 70% de valeurs manquantes en première approche."
      ],
      "text/plain": [
       "<IPython.core.display.Markdown object>"
      ]
     },
     "metadata": {},
     "output_type": "display_data"
    },
    {
     "data": {
      "text/markdown": [
       "Cette approche nous donne un total de 49 indicateurs restants."
      ],
      "text/plain": [
       "<IPython.core.display.Markdown object>"
      ]
     },
     "metadata": {},
     "output_type": "display_data"
    }
   ],
   "source": [
    "thresh = 0.7\n",
    "nb_entries = filter_df.loc[filter_df[\"Ratio maximal de NaN\"].round(2) == thresh, \"Nombre d'indicateurs restants\"].iloc[0]\n",
    "\n",
    "display(Markdown(f\"Nous retenons un maximum de {thresh:.0%} de valeurs manquantes en première approche.\"))\n",
    "display(Markdown(f\"Cette approche nous donne un total de {nb_entries:,.0f} indicateurs restants.\"))"
   ]
  },
  {
   "cell_type": "markdown",
   "id": "7936a853-29d7-41c3-bb04-75d5522d93cf",
   "metadata": {},
   "source": [
    "Les indicateurs restant sont les suivants."
   ]
  },
  {
   "cell_type": "code",
   "execution_count": 16,
   "id": "87bf8558-df0f-40fe-829a-bb5069c0b1e8",
   "metadata": {},
   "outputs": [
    {
     "data": {
      "text/plain": [
       "['code',\n",
       " 'url',\n",
       " 'creator',\n",
       " 'created_t',\n",
       " 'created_datetime',\n",
       " 'last_modified_t',\n",
       " 'last_modified_datetime',\n",
       " 'product_name',\n",
       " 'quantity',\n",
       " 'brands',\n",
       " 'brands_tags',\n",
       " 'categories',\n",
       " 'categories_tags',\n",
       " 'categories_fr',\n",
       " 'labels',\n",
       " 'labels_tags',\n",
       " 'labels_fr',\n",
       " 'countries',\n",
       " 'countries_tags',\n",
       " 'countries_fr',\n",
       " 'nutriscore_score',\n",
       " 'nutriscore_grade',\n",
       " 'pnns_groups_1',\n",
       " 'pnns_groups_2',\n",
       " 'food_groups',\n",
       " 'food_groups_tags',\n",
       " 'food_groups_fr',\n",
       " 'states',\n",
       " 'states_tags',\n",
       " 'states_fr',\n",
       " 'ecoscore_score_fr',\n",
       " 'ecoscore_grade_fr',\n",
       " 'main_category',\n",
       " 'main_category_fr',\n",
       " 'image_url',\n",
       " 'image_small_url',\n",
       " 'image_ingredients_url',\n",
       " 'image_ingredients_small_url',\n",
       " 'image_nutrition_url',\n",
       " 'image_nutrition_small_url',\n",
       " 'energy-kcal_100g',\n",
       " 'fat_100g',\n",
       " 'saturated-fat_100g',\n",
       " 'carbohydrates_100g',\n",
       " 'sugars_100g',\n",
       " 'proteins_100g',\n",
       " 'salt_100g',\n",
       " 'sodium_100g',\n",
       " 'nutrition-score-fr_100g']"
      ]
     },
     "execution_count": 16,
     "metadata": {},
     "output_type": "execute_result"
    }
   ],
   "source": [
    "indicator_filter(FoodData,thresh)"
   ]
  },
  {
   "cell_type": "markdown",
   "id": "ddc1724e-2e62-4df1-b38a-01ccdb11aca3",
   "metadata": {},
   "source": [
    "Nous procédons à une sélection manuelle en fonction du besoin de notre application. Par facilité, la liste est saisie dans un fichier .txt, qui est ensuite importé."
   ]
  },
  {
   "cell_type": "code",
   "execution_count": 17,
   "id": "3999e84f-b868-4788-bbcf-1a4eca5f294d",
   "metadata": {},
   "outputs": [],
   "source": [
    "with open('data/kept_columns.txt') as tempfile:\n",
    "    \n",
    "    kept_columns = [i.replace('\\n',\"\") for i in tempfile]"
   ]
  },
  {
   "cell_type": "code",
   "execution_count": 18,
   "id": "34eb3f74-82ed-4c32-bcc2-d1c62378c4a7",
   "metadata": {},
   "outputs": [
    {
     "data": {
      "text/markdown": [
       "Les indicateurs retenus sont les suivants :"
      ],
      "text/plain": [
       "<IPython.core.display.Markdown object>"
      ]
     },
     "metadata": {},
     "output_type": "display_data"
    },
    {
     "data": {
      "text/markdown": [
       "- code"
      ],
      "text/plain": [
       "<IPython.core.display.Markdown object>"
      ]
     },
     "metadata": {},
     "output_type": "display_data"
    },
    {
     "data": {
      "text/markdown": [
       "- url"
      ],
      "text/plain": [
       "<IPython.core.display.Markdown object>"
      ]
     },
     "metadata": {},
     "output_type": "display_data"
    },
    {
     "data": {
      "text/markdown": [
       "- last_modified_datetime"
      ],
      "text/plain": [
       "<IPython.core.display.Markdown object>"
      ]
     },
     "metadata": {},
     "output_type": "display_data"
    },
    {
     "data": {
      "text/markdown": [
       "- image_small_url"
      ],
      "text/plain": [
       "<IPython.core.display.Markdown object>"
      ]
     },
     "metadata": {},
     "output_type": "display_data"
    },
    {
     "data": {
      "text/markdown": [
       "- product_name"
      ],
      "text/plain": [
       "<IPython.core.display.Markdown object>"
      ]
     },
     "metadata": {},
     "output_type": "display_data"
    },
    {
     "data": {
      "text/markdown": [
       "- quantity"
      ],
      "text/plain": [
       "<IPython.core.display.Markdown object>"
      ]
     },
     "metadata": {},
     "output_type": "display_data"
    },
    {
     "data": {
      "text/markdown": [
       "- pnns_groups_1"
      ],
      "text/plain": [
       "<IPython.core.display.Markdown object>"
      ]
     },
     "metadata": {},
     "output_type": "display_data"
    },
    {
     "data": {
      "text/markdown": [
       "- pnns_groups_2"
      ],
      "text/plain": [
       "<IPython.core.display.Markdown object>"
      ]
     },
     "metadata": {},
     "output_type": "display_data"
    },
    {
     "data": {
      "text/markdown": [
       "- food_groups"
      ],
      "text/plain": [
       "<IPython.core.display.Markdown object>"
      ]
     },
     "metadata": {},
     "output_type": "display_data"
    },
    {
     "data": {
      "text/markdown": [
       "- nutriscore_grade"
      ],
      "text/plain": [
       "<IPython.core.display.Markdown object>"
      ]
     },
     "metadata": {},
     "output_type": "display_data"
    },
    {
     "data": {
      "text/markdown": [
       "- energy-kcal_100g"
      ],
      "text/plain": [
       "<IPython.core.display.Markdown object>"
      ]
     },
     "metadata": {},
     "output_type": "display_data"
    },
    {
     "data": {
      "text/markdown": [
       "- fat_100g"
      ],
      "text/plain": [
       "<IPython.core.display.Markdown object>"
      ]
     },
     "metadata": {},
     "output_type": "display_data"
    },
    {
     "data": {
      "text/markdown": [
       "- saturated-fat_100g"
      ],
      "text/plain": [
       "<IPython.core.display.Markdown object>"
      ]
     },
     "metadata": {},
     "output_type": "display_data"
    },
    {
     "data": {
      "text/markdown": [
       "- carbohydrates_100g"
      ],
      "text/plain": [
       "<IPython.core.display.Markdown object>"
      ]
     },
     "metadata": {},
     "output_type": "display_data"
    },
    {
     "data": {
      "text/markdown": [
       "- sugars_100g"
      ],
      "text/plain": [
       "<IPython.core.display.Markdown object>"
      ]
     },
     "metadata": {},
     "output_type": "display_data"
    },
    {
     "data": {
      "text/markdown": [
       "- proteins_100g"
      ],
      "text/plain": [
       "<IPython.core.display.Markdown object>"
      ]
     },
     "metadata": {},
     "output_type": "display_data"
    },
    {
     "data": {
      "text/markdown": [
       "- salt_100g"
      ],
      "text/plain": [
       "<IPython.core.display.Markdown object>"
      ]
     },
     "metadata": {},
     "output_type": "display_data"
    },
    {
     "data": {
      "text/markdown": [
       "- sodium_100g"
      ],
      "text/plain": [
       "<IPython.core.display.Markdown object>"
      ]
     },
     "metadata": {},
     "output_type": "display_data"
    }
   ],
   "source": [
    "display(Markdown(f\"Les indicateurs retenus sont les suivants :\"))\n",
    "for name in kept_columns:\n",
    "    display(Markdown(f\"- {name}\"))"
   ]
  },
  {
   "cell_type": "markdown",
   "id": "c8597da8-84c4-40a2-8f06-51ca6267b98e",
   "metadata": {},
   "source": [
    "Ils correspondent aux informations suivantes:\n",
    "- code barre unique du produit\n",
    "- lien vers les informations contenues sur le site openfoodfacts\n",
    "- date de dernière mise à jour des informations sur le produit\n",
    "- url de l'image en basse résolution du produit\n",
    "- nom du produit\n",
    "- quantité de produit\n",
    "- 3 indicateurs de classification du produit\n",
    "- note nutriscore du produit\n",
    "- énergie en kcal pour 100g\n",
    "- gras, gras saturés, glucides, sucres, protéines, sel et sodium pour 100g"
   ]
  },
  {
   "cell_type": "markdown",
   "id": "96b31161-244a-41ec-aa21-647fe8649873",
   "metadata": {},
   "source": [
    "Nous filtrons ensuite la base pour ne conserver que ces colonnes."
   ]
  },
  {
   "cell_type": "code",
   "execution_count": 19,
   "id": "cd823df8-bc58-42af-9cc9-5d7a42705e38",
   "metadata": {},
   "outputs": [],
   "source": [
    "FoodData = FoodData.loc[:,kept_columns]"
   ]
  },
  {
   "cell_type": "markdown",
   "id": "d251c4ca-b51f-4ef9-91ee-11b4ceb62379",
   "metadata": {},
   "source": [
    "#### 1.3.2.2. Filtrage des produits"
   ]
  },
  {
   "cell_type": "code",
   "execution_count": 20,
   "id": "27988ab6-0fb4-44ea-8ee2-9c432120138c",
   "metadata": {},
   "outputs": [
    {
     "data": {
      "text/html": [
       "<div>\n",
       "<style scoped>\n",
       "    .dataframe tbody tr th:only-of-type {\n",
       "        vertical-align: middle;\n",
       "    }\n",
       "\n",
       "    .dataframe tbody tr th {\n",
       "        vertical-align: top;\n",
       "    }\n",
       "\n",
       "    .dataframe thead th {\n",
       "        text-align: right;\n",
       "    }\n",
       "</style>\n",
       "<table border=\"1\" class=\"dataframe\">\n",
       "  <thead>\n",
       "    <tr style=\"text-align: right;\">\n",
       "      <th></th>\n",
       "      <th>Ratio maximal de NaN</th>\n",
       "      <th>Nombre de lignes restantes</th>\n",
       "    </tr>\n",
       "  </thead>\n",
       "  <tbody>\n",
       "    <tr>\n",
       "      <th>0</th>\n",
       "      <td>0.10</td>\n",
       "      <td>298076</td>\n",
       "    </tr>\n",
       "    <tr>\n",
       "      <th>1</th>\n",
       "      <td>0.15</td>\n",
       "      <td>364286</td>\n",
       "    </tr>\n",
       "    <tr>\n",
       "      <th>2</th>\n",
       "      <td>0.20</td>\n",
       "      <td>614569</td>\n",
       "    </tr>\n",
       "    <tr>\n",
       "      <th>3</th>\n",
       "      <td>0.25</td>\n",
       "      <td>645112</td>\n",
       "    </tr>\n",
       "    <tr>\n",
       "      <th>4</th>\n",
       "      <td>0.30</td>\n",
       "      <td>668821</td>\n",
       "    </tr>\n",
       "    <tr>\n",
       "      <th>5</th>\n",
       "      <td>0.35</td>\n",
       "      <td>673223</td>\n",
       "    </tr>\n",
       "    <tr>\n",
       "      <th>6</th>\n",
       "      <td>0.40</td>\n",
       "      <td>674711</td>\n",
       "    </tr>\n",
       "    <tr>\n",
       "      <th>7</th>\n",
       "      <td>0.45</td>\n",
       "      <td>679640</td>\n",
       "    </tr>\n",
       "  </tbody>\n",
       "</table>\n",
       "</div>"
      ],
      "text/plain": [
       "   Ratio maximal de NaN  Nombre de lignes restantes\n",
       "0                  0.10                      298076\n",
       "1                  0.15                      364286\n",
       "2                  0.20                      614569\n",
       "3                  0.25                      645112\n",
       "4                  0.30                      668821\n",
       "5                  0.35                      673223\n",
       "6                  0.40                      674711\n",
       "7                  0.45                      679640"
      ]
     },
     "execution_count": 20,
     "metadata": {},
     "output_type": "execute_result"
    }
   ],
   "source": [
    "na_threshold = []\n",
    "nb_entries = []\n",
    "\n",
    "for i in np.arange(0.1,0.5,0.05):\n",
    "    na_threshold.append(i)\n",
    "    nb_entries.append(entries_filter(FoodData,i).shape[0])\n",
    "    \n",
    "filter_df = pd.DataFrame({\n",
    "    \"Ratio maximal de NaN\": na_threshold,\n",
    "    \"Nombre de lignes restantes\": nb_entries\n",
    "})\n",
    "\n",
    "filter_df"
   ]
  },
  {
   "cell_type": "code",
   "execution_count": 21,
   "id": "58c7d210-88b1-4f76-b058-8dbfc3d696f2",
   "metadata": {},
   "outputs": [
    {
     "data": {
      "image/png": "[encoded data removed]",
      "text/plain": [
       "<Figure size 432x288 with 1 Axes>"
      ]
     },
     "metadata": {
      "needs_background": "light"
     },
     "output_type": "display_data"
    }
   ],
   "source": [
    "filter_df.plot(\n",
    "    kind = 'scatter',\n",
    "    x = \"Ratio maximal de NaN\", \n",
    "    y = \"Nombre de lignes restantes\", \n",
    "    title = \"Evolution du nombre de produits selon leur niveau de complétude\",\n",
    "    grid = True\n",
    ")\n",
    "\n",
    "plt.savefig('figures/produits_nan.png', format = 'png', bbox_inches = 'tight')\n",
    "\n",
    "plt.show()"
   ]
  },
  {
   "cell_type": "code",
   "execution_count": 22,
   "id": "e2b72143-0ba9-4fc3-9f77-ae28292b040c",
   "metadata": {},
   "outputs": [
    {
     "data": {
      "text/markdown": [
       "Nous retenons un maximum de 15% de données manquantes par ligne en première approche."
      ],
      "text/plain": [
       "<IPython.core.display.Markdown object>"
      ]
     },
     "metadata": {},
     "output_type": "display_data"
    },
    {
     "data": {
      "text/markdown": [
       "Cette approche nous donne un total de 364,286 lignes restantes."
      ],
      "text/plain": [
       "<IPython.core.display.Markdown object>"
      ]
     },
     "metadata": {},
     "output_type": "display_data"
    }
   ],
   "source": [
    "thresh = 0.15\n",
    "nb_entries = filter_df.loc[filter_df[\"Ratio maximal de NaN\"].round(2) == thresh, \"Nombre de lignes restantes\"].iloc[0]\n",
    "\n",
    "display(Markdown(f\"Nous retenons un maximum de {thresh:.0%} de données manquantes par ligne en première approche.\"))\n",
    "display(Markdown(f\"Cette approche nous donne un total de {nb_entries:,.0f} lignes restantes.\"))"
   ]
  },
  {
   "cell_type": "code",
   "execution_count": 23,
   "id": "5063a32c-07f5-4d5c-965b-d88da074f8df",
   "metadata": {},
   "outputs": [],
   "source": [
    "FoodData = entries_filter(FoodData, thresh)"
   ]
  },
  {
   "cell_type": "markdown",
   "id": "502d3c87-fb00-45a7-a191-1df593a97084",
   "metadata": {},
   "source": [
    "Un premier apreçu du nombre de données manquantes nous indique que certaines informations risquent de ne pas être toujours disponibles. Nous nous efforcerons de les compléter par la suite."
   ]
  },
  {
   "cell_type": "markdown",
   "id": "cf8e8c09-0268-4682-b4e4-30c367f2d5cf",
   "metadata": {},
   "source": [
    "### 1.3.3. Formattage des données"
   ]
  },
  {
   "cell_type": "code",
   "execution_count": 24,
   "id": "29c91d33-7f58-4a24-abbb-a414e1cef8f2",
   "metadata": {},
   "outputs": [],
   "source": [
    "FoodData.loc[:,\"last_modified_datetime\"] = pd.to_datetime(FoodData[\"last_modified_datetime\"])"
   ]
  },
  {
   "cell_type": "markdown",
   "id": "32caf920-1485-442d-a38a-8a2e37d15e8c",
   "metadata": {},
   "source": [
    "## 1.4. Finalisation et enregistrement de la base de données"
   ]
  },
  {
   "cell_type": "code",
   "execution_count": 25,
   "id": "6c453afb-6287-407a-8a00-774f45f2b58f",
   "metadata": {},
   "outputs": [
    {
     "name": "stdout",
     "output_type": "stream",
     "text": [
      "<class 'pandas.core.frame.DataFrame'>\n",
      "RangeIndex: 364286 entries, 0 to 364285\n",
      "Data columns (total 18 columns):\n",
      " #   Column                  Non-Null Count   Dtype              \n",
      "---  ------                  --------------   -----              \n",
      " 0   code                    364286 non-null  object             \n",
      " 1   url                     364286 non-null  object             \n",
      " 2   last_modified_datetime  364286 non-null  datetime64[ns, UTC]\n",
      " 3   image_small_url         352291 non-null  object             \n",
      " 4   product_name            363211 non-null  object             \n",
      " 5   quantity                219502 non-null  object             \n",
      " 6   pnns_groups_1           364286 non-null  object             \n",
      " 7   pnns_groups_2           364286 non-null  object             \n",
      " 8   food_groups             297058 non-null  object             \n",
      " 9   nutriscore_grade        315100 non-null  object             \n",
      " 10  energy-kcal_100g        364156 non-null  float64            \n",
      " 11  fat_100g                364211 non-null  float64            \n",
      " 12  saturated-fat_100g      364107 non-null  float64            \n",
      " 13  carbohydrates_100g      364177 non-null  float64            \n",
      " 14  sugars_100g             364150 non-null  float64            \n",
      " 15  proteins_100g           364224 non-null  float64            \n",
      " 16  salt_100g               364266 non-null  float64            \n",
      " 17  sodium_100g             364266 non-null  float64            \n",
      "dtypes: datetime64[ns, UTC](1), float64(8), object(9)\n",
      "memory usage: 50.0+ MB\n"
     ]
    }
   ],
   "source": [
    "FoodData.info()"
   ]
  },
  {
   "cell_type": "code",
   "execution_count": 26,
   "id": "a288c7de-a07a-4e99-8ee2-bb0f8860cd11",
   "metadata": {},
   "outputs": [
    {
     "data": {
      "text/plain": [
       "code                      0.000000\n",
       "url                       0.000000\n",
       "last_modified_datetime    0.000000\n",
       "image_small_url           0.032927\n",
       "product_name              0.002951\n",
       "quantity                  0.397446\n",
       "pnns_groups_1             0.000000\n",
       "pnns_groups_2             0.000000\n",
       "food_groups               0.184547\n",
       "nutriscore_grade          0.135020\n",
       "energy-kcal_100g          0.000357\n",
       "fat_100g                  0.000206\n",
       "saturated-fat_100g        0.000491\n",
       "carbohydrates_100g        0.000299\n",
       "sugars_100g               0.000373\n",
       "proteins_100g             0.000170\n",
       "salt_100g                 0.000055\n",
       "sodium_100g               0.000055\n",
       "dtype: float64"
      ]
     },
     "execution_count": 26,
     "metadata": {},
     "output_type": "execute_result"
    }
   ],
   "source": [
    "FoodData.isna().sum()/FoodData.shape[0]"
   ]
  },
  {
   "cell_type": "markdown",
   "id": "beb86b19-9965-442a-98d2-e527cc058fe4",
   "metadata": {},
   "source": [
    "Nous enregistrons la base de donnée réduite pour faciliter son exploitation future."
   ]
  },
  {
   "cell_type": "code",
   "execution_count": 27,
   "id": "54eacb1d-56b5-46d1-b02f-b76418dbd77f",
   "metadata": {},
   "outputs": [],
   "source": [
    "FoodData.to_feather('data/FoodData_filtered.feather')"
   ]
  }
 ],
 "metadata": {
  "kernelspec": {
   "display_name": "Python 3",
   "language": "python",
   "name": "python3"
  },
  "language_info": {
   "codemirror_mode": {
    "name": "ipython",
    "version": 3
   },
   "file_extension": ".py",
   "mimetype": "text/x-python",
   "name": "python",
   "nbconvert_exporter": "python",
   "pygments_lexer": "ipython3",
   "version": "3.8.11"
  }
 },
 "nbformat": 4,
 "nbformat_minor": 5
}
